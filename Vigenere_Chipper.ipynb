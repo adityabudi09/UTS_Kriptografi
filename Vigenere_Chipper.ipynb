{
  "nbformat": 4,
  "nbformat_minor": 0,
  "metadata": {
    "colab": {
      "provenance": [],
      "authorship_tag": "ABX9TyO6tyyJVevd9q5VuOODpPsO",
      "include_colab_link": true
    },
    "kernelspec": {
      "name": "python3",
      "display_name": "Python 3"
    },
    "language_info": {
      "name": "python"
    }
  },
  "cells": [
    {
      "cell_type": "markdown",
      "metadata": {
        "id": "view-in-github",
        "colab_type": "text"
      },
      "source": [
        "<a href=\"https://colab.research.google.com/github/adityabudi09/UTS_Kriptografi/blob/main/Vigenere_Chipper.ipynb\" target=\"_parent\"><img src=\"https://colab.research.google.com/assets/colab-badge.svg\" alt=\"Open In Colab\"/></a>"
      ]
    },
    {
      "cell_type": "code",
      "execution_count": 1,
      "metadata": {
        "colab": {
          "base_uri": "https://localhost:8080/"
        },
        "id": "LNDtWVj8BnlD",
        "outputId": "fa01c61b-4019-47ee-85b6-2d06aa2e39dc"
      },
      "outputs": [
        {
          "output_type": "stream",
          "name": "stdout",
          "text": [
            "Pesan Asli: Ini adalah pesan rahasia yang akan dienkripsi\n",
            "Pesan Terenkripsi: SHVCLKFNJXOMNPZKBNUQKSNPOKENPLSYAMZSJFK\n",
            "Pesan Terdekripsi: INIADALAHPESANRAHASIAYANGAKANDIENKRIPSI\n"
          ]
        }
      ],
      "source": [
        "# Fungsi untuk mengenkripsi pesan menggunakan Vigenère Cipher\n",
        "def encrypt(text, key):\n",
        "    # Membersihkan teks dari karakter selain huruf\n",
        "    text = ''.join(filter(str.isalpha, text))\n",
        "    text = text.upper()  # Mengubah teks menjadi huruf besar\n",
        "    key = key.upper()  # Mengubah kunci menjadi huruf besar\n",
        "    encrypted_text = \"\"\n",
        "\n",
        "    key_length = len(key)\n",
        "    key_as_int = [ord(i) for i in key]  # Mendapatkan nilai ASCII dari kunci\n",
        "\n",
        "    for i in range(len(text)):\n",
        "        char = text[i]\n",
        "        if char.isalpha():\n",
        "            key_shift = key_as_int[i % key_length] - 65  # Konversi huruf kunci ke nilai 0-25 (A=0, B=1, ..., Z=25)\n",
        "\n",
        "            if char.isupper():\n",
        "                encrypted_text += chr(((ord(char) + key_shift - 65) % 26) + 65)  # Enkripsi huruf besar\n",
        "            else:\n",
        "                encrypted_text += chr(((ord(char) + key_shift - 97) % 26) + 97)  # Enkripsi huruf kecil\n",
        "        else:\n",
        "            encrypted_text += char  # Menjaga karakter selain huruf tetap sama\n",
        "\n",
        "    return encrypted_text\n",
        "\n",
        "# Fungsi untuk mendekripsi pesan yang dienkripsi menggunakan Vigenère Cipher\n",
        "def decrypt(text, key):\n",
        "    text = text.upper()\n",
        "    key = key.upper()\n",
        "    decrypted_text = \"\"\n",
        "\n",
        "    key_length = len(key)\n",
        "    key_as_int = [ord(i) for i in key]  # Mendapatkan nilai ASCII dari kunci\n",
        "\n",
        "    for i in range(len(text)):\n",
        "        char = text[i]\n",
        "        if char.isalpha():\n",
        "            key_shift = key_as_int[i % key_length] - 65  # Konversi huruf kunci ke nilai 0-25 (A=0, B=1, ..., Z=25)\n",
        "\n",
        "            if char.isupper():\n",
        "                decrypted_text += chr(((ord(char) - key_shift - 65) % 26) + 65)  # Dekripsi huruf besar\n",
        "            else:\n",
        "                decrypted_text += chr(((ord(char) - key_shift - 97) % 26) + 97)  # Dekripsi huruf kecil\n",
        "        else:\n",
        "            decrypted_text += char\n",
        "\n",
        "    return decrypted_text\n",
        "\n",
        "# Contoh penggunaan\n",
        "pesan = \"Ini adalah pesan rahasia yang akan dienkripsi\"\n",
        "kunci = \"KUNCI\"  # Kunci untuk enkripsi\n",
        "\n",
        "pesan_terenkripsi = encrypt(pesan, kunci)\n",
        "pesan_terdekripsi = decrypt(pesan_terenkripsi, kunci)\n",
        "\n",
        "print(\"Pesan Asli:\", pesan)\n",
        "print(\"Pesan Terenkripsi:\", pesan_terenkripsi)\n",
        "print(\"Pesan Terdekripsi:\", pesan_terdekripsi)"
      ]
    }
  ]
}