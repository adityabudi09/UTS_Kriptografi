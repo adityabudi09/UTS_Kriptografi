{
  "nbformat": 4,
  "nbformat_minor": 0,
  "metadata": {
    "colab": {
      "provenance": [],
      "authorship_tag": "ABX9TyMozIWlUwegzu8C0VNLeVJ4",
      "include_colab_link": true
    },
    "kernelspec": {
      "name": "python3",
      "display_name": "Python 3"
    },
    "language_info": {
      "name": "python"
    }
  },
  "cells": [
    {
      "cell_type": "markdown",
      "metadata": {
        "id": "view-in-github",
        "colab_type": "text"
      },
      "source": [
        "<a href=\"https://colab.research.google.com/github/adityabudi09/UTS_Kriptografi/blob/main/Hill_Chipper.ipynb\" target=\"_parent\"><img src=\"https://colab.research.google.com/assets/colab-badge.svg\" alt=\"Open In Colab\"/></a>"
      ]
    },
    {
      "cell_type": "code",
      "execution_count": 1,
      "metadata": {
        "colab": {
          "base_uri": "https://localhost:8080/"
        },
        "id": "KeQlEASABlyf",
        "outputId": "a17403df-906a-4c05-db95-ddf81aee7fde"
      },
      "outputs": [
        {
          "output_type": "stream",
          "name": "stdout",
          "text": [
            "Pesan Asli: Ini adalah pesan rahasia\n",
            "Pesan Terenkripsi: naaapsnaaiiidlhearhsa\n",
            "Pesan Terdekripsi: iniadalahpesanrahasia\n"
          ]
        }
      ],
      "source": [
        "# Fungsi untuk mengenkripsi pesan menggunakan Hail Cipher\n",
        "def encrypt(text):\n",
        "  # Mengubah teks menjadi huruf kecil dan membersihkan dari spasi\n",
        "  text = text.lower().replace(\" \", \"\")\n",
        "  encrypted_text = \"\"\n",
        "\n",
        "  # Membuat list untuk menyimpan karakter pada posisi genap dan ganjil\n",
        "  even_chars = []\n",
        "  odd_chars = []\n",
        "\n",
        "  # Memisahkan karakter pada posisi genap dan ganjil\n",
        "  for i in range(len(text)):\n",
        "    if i % 2 == 0:\n",
        "      even_chars.append(text[i])\n",
        "    else:\n",
        "      odd_chars.append(text[i])\n",
        "\n",
        "  # Menggabungkan karakter pada posisi genap dan ganjil\n",
        "  encrypted_text = ''.join(odd_chars) + ''.join(even_chars)\n",
        "\n",
        "  return encrypted_text\n",
        "\n",
        "\n",
        "# Fungsi untuk mendekripsi pesan yang dienkripsi menggunakan Hail Cipher\n",
        "def decrypt(text):\n",
        "  decrypted_text = \"\"\n",
        "\n",
        "  # Membagi teks menjadi dua bagian\n",
        "  mid = len(text) // 2\n",
        "  odd_chars = list(text[:mid])\n",
        "  even_chars = list(text[mid:])\n",
        "\n",
        "  # Menggabungkan kembali karakter yang telah dipisahkan\n",
        "  for i in range(len(text)):\n",
        "    if i % 2 == 0:\n",
        "      decrypted_text += even_chars.pop(0)\n",
        "    else:\n",
        "      decrypted_text += odd_chars.pop(0)\n",
        "\n",
        "  return decrypted_text\n",
        "\n",
        "\n",
        "# Contoh penggunaan\n",
        "pesan = \"Ini adalah pesan rahasia\"\n",
        "pesan_terenkripsi = encrypt(pesan)\n",
        "pesan_terdekripsi = decrypt(pesan_terenkripsi)\n",
        "\n",
        "print(\"Pesan Asli:\", pesan)\n",
        "print(\"Pesan Terenkripsi:\", pesan_terenkripsi)\n",
        "print(\"Pesan Terdekripsi:\", pesan_terdekripsi)\n"
      ]
    }
  ]
}