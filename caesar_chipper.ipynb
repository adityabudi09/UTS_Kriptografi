{
  "nbformat": 4,
  "nbformat_minor": 0,
  "metadata": {
    "colab": {
      "provenance": [],
      "authorship_tag": "ABX9TyMFyI1xsOdGOz2UZ05vO9MO",
      "include_colab_link": true
    },
    "kernelspec": {
      "name": "python3",
      "display_name": "Python 3"
    },
    "language_info": {
      "name": "python"
    }
  },
  "cells": [
    {
      "cell_type": "markdown",
      "metadata": {
        "id": "view-in-github",
        "colab_type": "text"
      },
      "source": [
        "<a href=\"https://colab.research.google.com/github/adityabudi09/UTS_Kriptografi/blob/main/caesar_chipper.ipynb\" target=\"_parent\"><img src=\"https://colab.research.google.com/assets/colab-badge.svg\" alt=\"Open In Colab\"/></a>"
      ]
    },
    {
      "cell_type": "code",
      "execution_count": 1,
      "metadata": {
        "colab": {
          "base_uri": "https://localhost:8080/"
        },
        "id": "OzkixlAXBlFD",
        "outputId": "fb6667f0-0a7d-46d4-dd5e-1990033181ed"
      },
      "outputs": [
        {
          "output_type": "stream",
          "name": "stdout",
          "text": [
            "Original: Selamat Pagi\n",
            "Ciphered: Vhodpdw Sdjl\n"
          ]
        }
      ],
      "source": [
        "def caesar_cipher(text, shift):\n",
        "    result = \"\"\n",
        "    for char in text:\n",
        "        if char.isalpha():\n",
        "            # Determine whether the character is uppercase or lowercase\n",
        "            is_upper = char.isupper()\n",
        "\n",
        "            # Shift the character by the specified amount\n",
        "            char_code = ord(char) - ord('A') if is_upper else ord(char) - ord('a')\n",
        "            shifted_code = (char_code + shift) % 26\n",
        "            shifted_char = chr(shifted_code + ord('A') if is_upper else shifted_code + ord('a'))\n",
        "\n",
        "            result += shifted_char\n",
        "        else:\n",
        "            # If the character is not a letter, leave it unchanged\n",
        "            result += char\n",
        "\n",
        "    return result\n",
        "\n",
        "# Example usage\n",
        "plaintext = \"Selamat Pagi\"\n",
        "shift_amount = 3\n",
        "cipher_text = caesar_cipher(plaintext, shift_amount)\n",
        "print(f\"Original: {plaintext}\")\n",
        "print(f\"Ciphered: {cipher_text}\")"
      ]
    }
  ]
}