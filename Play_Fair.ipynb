{
  "nbformat": 4,
  "nbformat_minor": 0,
  "metadata": {
    "colab": {
      "provenance": [],
      "authorship_tag": "ABX9TyP/QYX2QJGxgmDo6w7Csb6u",
      "include_colab_link": true
    },
    "kernelspec": {
      "name": "python3",
      "display_name": "Python 3"
    },
    "language_info": {
      "name": "python"
    }
  },
  "cells": [
    {
      "cell_type": "markdown",
      "metadata": {
        "id": "view-in-github",
        "colab_type": "text"
      },
      "source": [
        "<a href=\"https://colab.research.google.com/github/adityabudi09/UTS_Kriptografi/blob/main/Play_Fair.ipynb\" target=\"_parent\"><img src=\"https://colab.research.google.com/assets/colab-badge.svg\" alt=\"Open In Colab\"/></a>"
      ]
    },
    {
      "cell_type": "code",
      "execution_count": 1,
      "metadata": {
        "colab": {
          "base_uri": "https://localhost:8080/"
        },
        "id": "866vmczTBQe4",
        "outputId": "c1050a07-d460-405b-87dd-3fcf16f672ff"
      },
      "outputs": [
        {
          "output_type": "stream",
          "name": "stdout",
          "text": [
            "Plaintext: Dwi Aditya Budi\n",
            "Encrypted Text: CXNPGTIXFHOHTY\n",
            "Decrypted Text: DWIADITYABUDIX\n"
          ]
        }
      ],
      "source": [
        "def preprocess_text(text):\n",
        "    text = text.replace(\"J\", \"I\")  # Gantikan 'J' dengan 'I'\n",
        "    text = text.upper()  # Ubah teks menjadi huruf besar\n",
        "    text = \"\".join(filter(str.isalpha, text))  # Hapus karakter non-alfabet\n",
        "    return text\n",
        "\n",
        "def create_playfair_matrix(key):\n",
        "    key = key.upper()\n",
        "    alphabet = \"ABCDEFGHIKLMNOPQRSTUVWXYZ\"  # Hilangkan 'J' karena sudah digantikan dengan 'I'\n",
        "    matrix = []\n",
        "    for char in key:\n",
        "        if char not in matrix and char in alphabet:\n",
        "            matrix.append(char)\n",
        "    for char in alphabet:\n",
        "        if char not in matrix:\n",
        "            matrix.append(char)\n",
        "    return matrix\n",
        "\n",
        "def encrypt_playfair(plaintext, key):\n",
        "    plaintext = preprocess_text(plaintext)\n",
        "    matrix = create_playfair_matrix(key)\n",
        "    ciphertext = \"\"\n",
        "    i = 0\n",
        "    while i < len(plaintext):\n",
        "        if i == len(plaintext) - 1:\n",
        "            pair = plaintext[i] + \"X\"\n",
        "            i += 1\n",
        "        elif plaintext[i] == plaintext[i + 1]:\n",
        "            pair = plaintext[i] + \"X\"\n",
        "            i += 1\n",
        "        else:\n",
        "            pair = plaintext[i] + plaintext[i + 1]\n",
        "            i += 2\n",
        "        row1, col1 = divmod(matrix.index(pair[0]), 5)\n",
        "        row2, col2 = divmod(matrix.index(pair[1]), 5)\n",
        "        if row1 == row2:\n",
        "            ciphertext += matrix[row1 * 5 + (col1 + 1) % 5]\n",
        "            ciphertext += matrix[row2 * 5 + (col2 + 1) % 5]\n",
        "        elif col1 == col2:\n",
        "            ciphertext += matrix[((row1 + 1) % 5) * 5 + col1]\n",
        "            ciphertext += matrix[((row2 + 1) % 5) * 5 + col2]\n",
        "        else:\n",
        "            ciphertext += matrix[row1 * 5 + col2]\n",
        "            ciphertext += matrix[row2 * 5 + col1]\n",
        "    return ciphertext\n",
        "\n",
        "def decrypt_playfair(ciphertext, key):\n",
        "    matrix = create_playfair_matrix(key)\n",
        "    plaintext = \"\"\n",
        "    i = 0\n",
        "    while i < len(ciphertext):\n",
        "        pair = ciphertext[i] + ciphertext[i + 1]\n",
        "        i += 2\n",
        "        row1, col1 = divmod(matrix.index(pair[0]), 5)\n",
        "        row2, col2 = divmod(matrix.index(pair[1]), 5)\n",
        "        if row1 == row2:\n",
        "            plaintext += matrix[row1 * 5 + (col1 - 1) % 5]\n",
        "            plaintext += matrix[row2 * 5 + (col2 - 1) % 5]\n",
        "        elif col1 == col2:\n",
        "            plaintext += matrix[((row1 - 1) % 5) * 5 + col1]\n",
        "            plaintext += matrix[((row2 - 1) % 5) * 5 + col2]\n",
        "        else:\n",
        "            plaintext += matrix[row1 * 5 + col2]\n",
        "            plaintext += matrix[row2 * 5 + col1]\n",
        "    return plaintext\n",
        "\n",
        "# Contoh penggunaan\n",
        "key = \"FreePalestine\"\n",
        "plaintext = \"Dwi Aditya Budi\"\n",
        "encrypted_text = encrypt_playfair(plaintext, key)\n",
        "print(\"Plaintext:\", plaintext)\n",
        "print(\"Encrypted Text:\", encrypted_text)\n",
        "decrypted_text = decrypt_playfair(encrypted_text, key)\n",
        "print(\"Decrypted Text:\", decrypted_text)"
      ]
    }
  ]
}